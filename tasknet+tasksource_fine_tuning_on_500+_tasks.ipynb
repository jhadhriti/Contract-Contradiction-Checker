{
  "cells": [
    {
      "cell_type": "code",
      "execution_count": null,
      "metadata": {
        "colab": {
          "base_uri": "https://localhost:8080/"
        },
        "id": "308699d0",
        "outputId": "d089b529-6282-48b9-d8eb-57ea0b7c890e"
      },
      "outputs": [
        {
          "output_type": "execute_result",
          "data": {
            "text/plain": [
              "256"
            ]
          },
          "metadata": {},
          "execution_count": 2
        }
      ],
      "source": [
        "import os\n",
        "os.system('pip install tasknet tasksource pygrove transformers')"
      ],
      "id": "308699d0"
    },
    {
      "cell_type": "code",
      "execution_count": null,
      "metadata": {
        "colab": {
          "background_save": true
        },
        "id": "49ba3458"
      },
      "outputs": [],
      "source": [
        "import tasknet as tn\n",
        "from datasets import load_dataset\n",
        "from IPython.display import clear_output\n",
        "from tasksource import list_tasks, load_task\n",
        "\n",
        "task_df = list_tasks()\n",
        "\n",
        "size={'max_rows':30_000,'max_rows_eval':144, oversampling=2}\n",
        "\n",
        "tasks=[]\n",
        "for i,x in task_df.iterrows():\n",
        "    print(len(tasks),'/',i)\n",
        "    try:\n",
        "        task = tn.AutoTask(x.id, name=x.id, **size)\n",
        "        tasks+=([task] if task.check() else [])\n",
        "    except Exception as e:\n",
        "        print(x.id, e)\n",
        "    clear_output()\n",
        "len(tasks)\n",
        "\n",
        "class args:\n",
        "    model_name = \"microsoft/deberta-v3-base\"\n",
        "    learning_rate = 2e-5\n",
        "    max_steps = 50_000\n",
        "    output_dir='/dev/null'\n",
        "    per_device_train_batch_size=12\n",
        "    gradient_accumulation_steps=16\n",
        "    eval_steps = max_steps//10\n",
        "    evaluation_strategy=logging_strategy='steps'\n",
        "    warmup_ratio=0.06\n",
        "    logging_steps=10\n",
        "    cls_emb_drop_probability=0.1\n",
        "\n",
        "tz=AutoTokenizer.from_pretrained(args.model_name)\n",
        "model = tn.Model(tasks, args)\n",
        "trainer = tn.Trainer(model, tasks, args,tokenizer=tz)\n",
        "trainer.train()"
      ],
      "id": "49ba3458"
    }
  ],
  "metadata": {
    "colab": {
      "provenance": []
    },
    "kernelspec": {
      "display_name": "Python 3 (ipykernel)",
      "language": "python",
      "name": "python3"
    },
    "language_info": {
      "codemirror_mode": {
        "name": "ipython",
        "version": 3
      },
      "file_extension": ".py",
      "mimetype": "text/x-python",
      "name": "python",
      "nbconvert_exporter": "python",
      "pygments_lexer": "ipython3",
      "version": "3.9.12"
    }
  },
  "nbformat": 4,
  "nbformat_minor": 5
}